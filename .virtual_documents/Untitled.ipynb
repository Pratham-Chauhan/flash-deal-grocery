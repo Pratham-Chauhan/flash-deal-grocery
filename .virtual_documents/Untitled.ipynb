import pandas as pd


df = pd.read_csv('Flash_deal_product_list.csv')


print(len(df))

df['Discount'] = (df['Diff.']/df['Normal Price'])*100
df['Discount'] = df.Discount.round(1)


df = df.sort_values(by='ID', ascending=False)


df




