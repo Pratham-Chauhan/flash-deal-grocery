import pandas as pd


df = pd.read_csv('Flash_deal_product_list.csv')


print(len(df))

df[df['ID'] == 2947]




