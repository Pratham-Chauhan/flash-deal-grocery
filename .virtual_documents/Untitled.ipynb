import pandas as pd


df = pd.read_csv('Flash_deal_product_list.csv')


df.Start_time_String[len(df)-1]


print(len(df))

df['Discount'] = (df['Diff.']/df['Normal Price'])*100
df['Discount'] = df.Discount.round(1)


df


df2 = df.groupby(['ID', 'Item']).count()


df2.sort_values('Price', ascending=False)



df3 = df[df['ID'] == 5141] # banana id


import time
current_time = int(time.time())
current_time = datetime.fromtimestamp(current_time)

current_time


df3



from datetime import datetime
df3['Start_time_String'] = df3['Start_time'].apply(datetime.fromtimestamp)


available_styles = plt.style.available
available_styles


import matplotlib.dates as mdates
import numpy as np

plt.style.use('seaborn-v0_8-notebook')

fig = plt.figure(figsize=(17,8))
# Format the date ticks on the x-axis
date_format = mdates.DateFormatter('%I:%M %p\n %b-%d ')  # Customize the format as per your preference
plt.gca().xaxis.set_major_formatter(date_format)
plt.xticks(rotation=25)

plt.grid(True, linestyle='--', linewidth=0.5)


# Customize the tick labels with bigger text
plt.tick_params(axis='both', labelsize=20)  # Set the font size to 14 for both x and y axis

x = df3['Start_time_String'].to_numpy()
x = np.append(x, np.datetime64(current_time))

y = df3['Price'].to_numpy()
y = np.append(y, y[-1])

y2 = df3['Normal Price'].to_numpy()
y2 = np.append(y2, y2[-1])

# print(x,y)
plt.step(x, y2, 'o-', where='post')
plt.step(x, y, 'o-', where='post')


x[0], 





import matplotlib.pyplot as plt



