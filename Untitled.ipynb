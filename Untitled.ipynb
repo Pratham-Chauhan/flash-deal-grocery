{
 "cells": [
  {
   "cell_type": "code",
   "execution_count": 2,
   "id": "8c66ff12-bce7-4aa7-8bf9-a7001bfa863e",
   "metadata": {
    "tags": []
   },
   "outputs": [],
   "source": [
    "import pandas as pd"
   ]
  },
  {
   "cell_type": "code",
   "execution_count": 9,
   "id": "0dacc938-17cd-488c-a2e2-f0c03eb5f2ef",
   "metadata": {
    "tags": []
   },
   "outputs": [],
   "source": [
    "df = pd.read_csv('Flash_deal_product_list.csv')"
   ]
  },
  {
   "cell_type": "code",
   "execution_count": 11,
   "id": "a56995e0-58da-4a63-a428-9f711814edd1",
   "metadata": {
    "tags": []
   },
   "outputs": [
    {
     "name": "stdout",
     "output_type": "stream",
     "text": [
      "104\n"
     ]
    },
    {
     "data": {
      "text/html": [
       "<div>\n",
       "<style scoped>\n",
       "    .dataframe tbody tr th:only-of-type {\n",
       "        vertical-align: middle;\n",
       "    }\n",
       "\n",
       "    .dataframe tbody tr th {\n",
       "        vertical-align: top;\n",
       "    }\n",
       "\n",
       "    .dataframe thead th {\n",
       "        text-align: right;\n",
       "    }\n",
       "</style>\n",
       "<table border=\"1\" class=\"dataframe\">\n",
       "  <thead>\n",
       "    <tr style=\"text-align: right;\">\n",
       "      <th></th>\n",
       "      <th>ID</th>\n",
       "      <th>Start_time</th>\n",
       "      <th>End_time</th>\n",
       "      <th>Start_time_String</th>\n",
       "      <th>End_time_string</th>\n",
       "      <th>Item</th>\n",
       "      <th>Quantity</th>\n",
       "      <th>Price</th>\n",
       "      <th>Normal Price</th>\n",
       "      <th>Diff.</th>\n",
       "    </tr>\n",
       "  </thead>\n",
       "  <tbody>\n",
       "    <tr>\n",
       "      <th>0</th>\n",
       "      <td>2947</td>\n",
       "      <td>1690885861</td>\n",
       "      <td>1690896600</td>\n",
       "      <td>2023-08-01 16:01:01</td>\n",
       "      <td>2023-08-01 19:00:00</td>\n",
       "      <td>Onion (Pyaaz)</td>\n",
       "      <td>550 g</td>\n",
       "      <td>10</td>\n",
       "      <td>17</td>\n",
       "      <td>7</td>\n",
       "    </tr>\n",
       "    <tr>\n",
       "      <th>26</th>\n",
       "      <td>2947</td>\n",
       "      <td>1690885861</td>\n",
       "      <td>1690896600</td>\n",
       "      <td>2023-08-01 16:01:01</td>\n",
       "      <td>2023-08-01 19:00:00</td>\n",
       "      <td>Onion (Pyaaz)</td>\n",
       "      <td>550 g</td>\n",
       "      <td>10</td>\n",
       "      <td>17</td>\n",
       "      <td>7</td>\n",
       "    </tr>\n",
       "    <tr>\n",
       "      <th>52</th>\n",
       "      <td>2947</td>\n",
       "      <td>1690885861</td>\n",
       "      <td>1690896600</td>\n",
       "      <td>2023-08-01 16:01:01</td>\n",
       "      <td>2023-08-01 19:00:00</td>\n",
       "      <td>Onion (Pyaaz)</td>\n",
       "      <td>550 g</td>\n",
       "      <td>10</td>\n",
       "      <td>17</td>\n",
       "      <td>7</td>\n",
       "    </tr>\n",
       "    <tr>\n",
       "      <th>78</th>\n",
       "      <td>2947</td>\n",
       "      <td>1690885861</td>\n",
       "      <td>1690896600</td>\n",
       "      <td>2023-08-01 16:01:01</td>\n",
       "      <td>2023-08-01 19:00:00</td>\n",
       "      <td>Onion (Pyaaz)</td>\n",
       "      <td>550 g</td>\n",
       "      <td>10</td>\n",
       "      <td>17</td>\n",
       "      <td>7</td>\n",
       "    </tr>\n",
       "  </tbody>\n",
       "</table>\n",
       "</div>"
      ],
      "text/plain": [
       "      ID  Start_time    End_time    Start_time_String      End_time_string  \\\n",
       "0   2947  1690885861  1690896600  2023-08-01 16:01:01  2023-08-01 19:00:00   \n",
       "26  2947  1690885861  1690896600  2023-08-01 16:01:01  2023-08-01 19:00:00   \n",
       "52  2947  1690885861  1690896600  2023-08-01 16:01:01  2023-08-01 19:00:00   \n",
       "78  2947  1690885861  1690896600  2023-08-01 16:01:01  2023-08-01 19:00:00   \n",
       "\n",
       "             Item Quantity  Price  Normal Price  Diff.  \n",
       "0   Onion (Pyaaz)    550 g     10            17      7  \n",
       "26  Onion (Pyaaz)    550 g     10            17      7  \n",
       "52  Onion (Pyaaz)    550 g     10            17      7  \n",
       "78  Onion (Pyaaz)    550 g     10            17      7  "
      ]
     },
     "execution_count": 11,
     "metadata": {},
     "output_type": "execute_result"
    }
   ],
   "source": [
    "print(len(df))\n",
    "\n",
    "df[df['Item'] == 'Onion (Pyaaz)']"
   ]
  },
  {
   "cell_type": "code",
   "execution_count": null,
   "id": "0e55fd40-a2e0-48ce-8152-edc7f08840f3",
   "metadata": {},
   "outputs": [],
   "source": [
    "\n"
   ]
  }
 ],
 "metadata": {
  "kernelspec": {
   "display_name": "Python 3 (ipykernel)",
   "language": "python",
   "name": "python3"
  },
  "language_info": {
   "codemirror_mode": {
    "name": "ipython",
    "version": 3
   },
   "file_extension": ".py",
   "mimetype": "text/x-python",
   "name": "python",
   "nbconvert_exporter": "python",
   "pygments_lexer": "ipython3",
   "version": "3.10.6"
  }
 },
 "nbformat": 4,
 "nbformat_minor": 5
}
